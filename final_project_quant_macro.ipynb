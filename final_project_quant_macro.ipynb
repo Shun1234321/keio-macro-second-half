{
 "cells": [
  {
   "cell_type": "code",
   "execution_count": null,
   "id": "f6f7db06",
   "metadata": {},
   "outputs": [
    {
     "name": "stdout",
     "output_type": "stream",
     "text": [
      "hellow\n"
     ]
    }
   ],
   "source": [
    "# importing libraries\n",
    "\n",
    "import numpy as np\n",
    "import matplotlib.pyplot as plt\n",
    "from scipy.optimize import minimize_scalar"
   ]
  },
  {
   "cell_type": "code",
   "execution_count": null,
   "id": "f4beaa69",
   "metadata": {},
   "outputs": [],
   "source": [
    "# utility function\n",
    "\n",
    "def util(cons, gamma):\n",
    "    return max(cons, 1e-4)**(1.0-gamma)/(1.0-gamma)"
   ]
  },
  {
   "cell_type": "code",
   "execution_count": null,
   "id": "0806a40f",
   "metadata": {},
   "outputs": [],
   "source": [
    "# setting parameters\n",
    "\n",
    "gamma = 2.0 # relative risk aversion\n",
    "beta = 0.985**20 # time discount factor\n",
    "r = 1.025**20 - 1.0 # interest rate"
   ]
  }
 ],
 "metadata": {
  "kernelspec": {
   "display_name": "base",
   "language": "python",
   "name": "python3"
  },
  "language_info": {
   "codemirror_mode": {
    "name": "ipython",
    "version": 3
   },
   "file_extension": ".py",
   "mimetype": "text/x-python",
   "name": "python",
   "nbconvert_exporter": "python",
   "pygments_lexer": "ipython3",
   "version": "3.12.4"
  }
 },
 "nbformat": 4,
 "nbformat_minor": 5
}
