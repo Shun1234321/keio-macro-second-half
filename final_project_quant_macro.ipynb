{
 "cells": [
  {
   "cell_type": "markdown",
   "id": "adb2937e",
   "metadata": {},
   "source": [
    "課題を解くための準備（授業で教授が記されたコードを参考に分析をしました。）"
   ]
  },
  {
   "cell_type": "code",
   "execution_count": 1,
   "id": "f6f7db06",
   "metadata": {},
   "outputs": [],
   "source": [
    "# importing libraries\n",
    "\n",
    "import numpy as np\n",
    "import matplotlib.pyplot as plt\n",
    "from scipy.optimize import minimize_scalar"
   ]
  },
  {
   "cell_type": "code",
   "execution_count": null,
   "id": "f4beaa69",
   "metadata": {},
   "outputs": [],
   "source": [
    "# utility function\n",
    "\n",
    "def util(cons, gamma):\n",
    "    return max(cons, 1e-4)**(1.0-gamma)/(1.0-gamma)"
   ]
  },
  {
   "cell_type": "code",
   "execution_count": null,
   "id": "0806a40f",
   "metadata": {},
   "outputs": [],
   "source": [
    "# setting parameters\n",
    "\n",
    "gamma = 2.0 # relative risk aversion\n",
    "beta = 0.985**20 # time discount factor\n",
    "r = 1.025**20 - 1.0 # interest rate\n",
    "JJ = 3 # 期間数\n",
    "l = np.array([0.8027, 1.0, 1.2457]) # 若年期の労働所得, 生産性・中生産性・高生産性\n",
    "NL = 3 # 若年期の労働所得パターン数\n",
    "\n",
    "# 各個人の中年期の労働所得は若年期の労働所得に依存 その確率はこの遷移行列によって決まる\n",
    "prob = np.array([\n",
    "    [0.7451, 0.2528, 0.0021],\n",
    "    [0.1360, 0.7281, 0.1360],\n",
    "    [0.0021, 0.2528, 0.7451]\n",
    "]) \n",
    "\n",
    "# 1期目の所得状態の「確率分布」mu_1 が、probを通じて、2期目にどう分布するか\n",
    "mu_1 = np.array([1.0/NL, 1.0/NL, 1.0/NL])\n",
    "mu_2 = np.zeros(NL)\n",
    "\n",
    "for il in range(NL):\n",
    "    for ilp in range(NL):\n",
    "        mu_2[ilp] += prob[il, ilp]*mu_1[il] "
   ]
  },
  {
   "cell_type": "code",
   "execution_count": null,
   "id": "d4be076c",
   "metadata": {},
   "outputs": [],
   "source": [
    "# grids\n",
    "a_l = 0.0\n",
    "a_u = 2.0\n",
    "NA = 100\n",
    "a = np.linspace(a_l, a_u, NA)"
   ]
  },
  {
   "cell_type": "markdown",
   "id": "42b30ba4",
   "metadata": {},
   "source": [
    "1. 年金がない場合、横軸に若年期期初の利子を除く資産、縦軸に次期の利子を除く資産とする貯蓄の政策関数のグラフをそれぞれの生産性について描け。\n",
    "全て同じ1つの図に描くこと。異なる生産性での貯蓄行動を比較し、その経済学的な直感も述べよ。"
   ]
  },
  {
   "cell_type": "code",
   "execution_count": null,
   "id": "ae4d8ae5",
   "metadata": {},
   "outputs": [],
   "source": [
    "# initialization\n",
    "v = np.zeros((JJ, NA, NL))\n",
    "iaplus = np.zeros((JJ, NA, NL), dtype=int)\n",
    "aplus = np.zeros((JJ, NA, NL))\n",
    "\n",
    "# backward induction\n",
    "\n",
    "# period 3\n",
    "for ia in range(NA):\n",
    "    v[2, ia, :] = util(0 + (1.0+r)*a[ia], gamma)\n",
    "\n",
    " # period 2\n",
    "for il in range(NL):\n",
    "    for ia in range(NA):\n",
    "        reward = np.zeros(NA)\n",
    "        for iap in range(NA):\n",
    "            reward[iap] = util(l[il] + (1.0+r)*a[ia] - a[iap], gamma) + beta*v[2, iap, 0]\n",
    "        iaplus[1, ia, il] = np.argmax(reward)\n",
    "        aplus[1, ia, il] = a[iaplus[1, ia, il]]\n",
    "        v[1, ia, il] = reward[iaplus[1, ia, il]]\n",
    "\n",
    "# period 1\n",
    "for il in range(NL):\n",
    "    for ia in range(NA):\n",
    "        reward = np.zeros(NA)\n",
    "        for iap in range(NA):\n",
    "\n",
    "            EV = 0.0\n",
    "            for ilp in range(NL):\n",
    "                EV += prob[il, ilp]*v[1, iap, ilp]\n",
    "\n",
    "            reward[iap] = util(l[il] + (1.0+r)*a[ia] - a[iap], gamma) + beta*EV\n",
    "\n",
    "        iaplus[0, ia, il] = np.argmax(reward)\n",
    "        aplus[0, ia, il] = a[iaplus[0, ia, il]]\n",
    "        v[0, ia, il] = reward[iaplus[0, ia, il]]\n",
    "\n",
    "\n",
    "\n",
    "\n",
    "\n"
   ]
  }
 ],
 "metadata": {
  "kernelspec": {
   "display_name": "base",
   "language": "python",
   "name": "python3"
  },
  "language_info": {
   "codemirror_mode": {
    "name": "ipython",
    "version": 3
   },
   "file_extension": ".py",
   "mimetype": "text/x-python",
   "name": "python",
   "nbconvert_exporter": "python",
   "pygments_lexer": "ipython3",
   "version": "3.12.4"
  }
 },
 "nbformat": 4,
 "nbformat_minor": 5
}
