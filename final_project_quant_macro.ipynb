{
 "cells": [
  {
   "cell_type": "code",
   "execution_count": null,
   "id": "f6f7db06",
   "metadata": {},
   "outputs": [
    {
     "name": "stdout",
     "output_type": "stream",
     "text": [
      "hellow\n"
     ]
    }
   ],
   "source": [
    "# importing libraries\n",
    "\n",
    "import numpy as np\n",
    "import matplotlib.pyplot as plt\n",
    "from scipy.optimize import minimize_scalar"
   ]
  },
  {
   "cell_type": "code",
   "execution_count": null,
   "id": "f4beaa69",
   "metadata": {},
   "outputs": [],
   "source": [
    "# utility function\n",
    "\n",
    "def util(cons, gamma):\n",
    "    return max(cons, 1e-4)**(1.0-gamma)/(1.0-gamma)"
   ]
  },
  {
   "cell_type": "code",
   "execution_count": null,
   "id": "0806a40f",
   "metadata": {},
   "outputs": [],
   "source": [
    "# setting parameters\n",
    "\n",
    "gamma = 2.0 # relative risk aversion\n",
    "beta = 0.985**20 # time discount factor\n",
    "r = 1.025**20 - 1.0 # interest rate\n",
    "JJ = 3 # 期間数\n",
    "l = np.array([0.8027, 1.0, 1.2457]) # 若年期の労働所得, 生産性・中生産性・高生産性\n",
    "NL = 3 # 若年期の労働所得パターン数\n",
    "\n",
    "# 各個人の中年期の労働所得は若年期の労働所得に依存 その確率はこの遷移行列によって決まる\n",
    "prob = np.array([\n",
    "    [0.7451, 0.2528, 0.0021],\n",
    "    [0.1360, 0.7281, 0.1360],\n",
    "    [0.0021, 0.2528, 0.7451]\n",
    "]) \n",
    "\n",
    "# 1期目の所得状態の「確率分布」mu_1 が、probを通じて、2期目にどう分布するか\n",
    "mu_1 = np.array([1.0/NL, 1.0/NL, 1.0/NL])\n",
    "mu_2 = np.zeros(NL)\n",
    "\n",
    "for il in range(NL):\n",
    "    for ilp in range(NL):\n",
    "        mu_2[ilp] += prob[il, ilp]*mu_1[il] "
   ]
  }
 ],
 "metadata": {
  "kernelspec": {
   "display_name": "base",
   "language": "python",
   "name": "python3"
  },
  "language_info": {
   "codemirror_mode": {
    "name": "ipython",
    "version": 3
   },
   "file_extension": ".py",
   "mimetype": "text/x-python",
   "name": "python",
   "nbconvert_exporter": "python",
   "pygments_lexer": "ipython3",
   "version": "3.12.4"
  }
 },
 "nbformat": 4,
 "nbformat_minor": 5
}
